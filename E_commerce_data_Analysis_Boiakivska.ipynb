{
  "cells": [
    {
      "cell_type": "markdown",
      "metadata": {
        "id": "view-in-github",
        "colab_type": "text"
      },
      "source": [
        "<a href=\"https://colab.research.google.com/github/bodarynka/E-commerce_data_analisis_with_Pyton-/blob/main/E_commerce_data_Analysis_Boiakivska.ipynb\" target=\"_parent\"><img src=\"https://colab.research.google.com/assets/colab-badge.svg\" alt=\"Open In Colab\"/></a>"
      ]
    },
    {
      "cell_type": "markdown",
      "source": [
        "# **Аналіз даних e-commerce**"
      ],
      "metadata": {
        "id": "e0dDRkrOvTVG"
      }
    },
    {
      "cell_type": "code",
      "execution_count": 1,
      "metadata": {
        "id": "D_zHjBkPeJBR"
      },
      "outputs": [],
      "source": [
        "# Імпорт бібліотек\n",
        "import pandas as pd\n",
        "import numpy as np\n",
        "import seaborn as sns\n",
        "import matplotlib.pyplot as plt\n",
        "import chardet\n",
        "from google.cloud import bigquery\n",
        "from google.oauth2 import service_account\n",
        "import warnings\n"
      ]
    },
    {
      "cell_type": "code",
      "execution_count": 2,
      "metadata": {
        "colab": {
          "base_uri": "https://localhost:8080/",
          "height": 73
        },
        "id": "utqDqOf-knng",
        "outputId": "f1bfab58-6db9-4002-cb4c-e24744ccfcc5"
      },
      "outputs": [
        {
          "output_type": "display_data",
          "data": {
            "text/plain": [
              "<IPython.core.display.HTML object>"
            ],
            "text/html": [
              "\n",
              "     <input type=\"file\" id=\"files-648d79e4-7a6d-400a-b464-2004c2f01c97\" name=\"files[]\" multiple disabled\n",
              "        style=\"border:none\" />\n",
              "     <output id=\"result-648d79e4-7a6d-400a-b464-2004c2f01c97\">\n",
              "      Upload widget is only available when the cell has been executed in the\n",
              "      current browser session. Please rerun this cell to enable.\n",
              "      </output>\n",
              "      <script>// Copyright 2017 Google LLC\n",
              "//\n",
              "// Licensed under the Apache License, Version 2.0 (the \"License\");\n",
              "// you may not use this file except in compliance with the License.\n",
              "// You may obtain a copy of the License at\n",
              "//\n",
              "//      http://www.apache.org/licenses/LICENSE-2.0\n",
              "//\n",
              "// Unless required by applicable law or agreed to in writing, software\n",
              "// distributed under the License is distributed on an \"AS IS\" BASIS,\n",
              "// WITHOUT WARRANTIES OR CONDITIONS OF ANY KIND, either express or implied.\n",
              "// See the License for the specific language governing permissions and\n",
              "// limitations under the License.\n",
              "\n",
              "/**\n",
              " * @fileoverview Helpers for google.colab Python module.\n",
              " */\n",
              "(function(scope) {\n",
              "function span(text, styleAttributes = {}) {\n",
              "  const element = document.createElement('span');\n",
              "  element.textContent = text;\n",
              "  for (const key of Object.keys(styleAttributes)) {\n",
              "    element.style[key] = styleAttributes[key];\n",
              "  }\n",
              "  return element;\n",
              "}\n",
              "\n",
              "// Max number of bytes which will be uploaded at a time.\n",
              "const MAX_PAYLOAD_SIZE = 100 * 1024;\n",
              "\n",
              "function _uploadFiles(inputId, outputId) {\n",
              "  const steps = uploadFilesStep(inputId, outputId);\n",
              "  const outputElement = document.getElementById(outputId);\n",
              "  // Cache steps on the outputElement to make it available for the next call\n",
              "  // to uploadFilesContinue from Python.\n",
              "  outputElement.steps = steps;\n",
              "\n",
              "  return _uploadFilesContinue(outputId);\n",
              "}\n",
              "\n",
              "// This is roughly an async generator (not supported in the browser yet),\n",
              "// where there are multiple asynchronous steps and the Python side is going\n",
              "// to poll for completion of each step.\n",
              "// This uses a Promise to block the python side on completion of each step,\n",
              "// then passes the result of the previous step as the input to the next step.\n",
              "function _uploadFilesContinue(outputId) {\n",
              "  const outputElement = document.getElementById(outputId);\n",
              "  const steps = outputElement.steps;\n",
              "\n",
              "  const next = steps.next(outputElement.lastPromiseValue);\n",
              "  return Promise.resolve(next.value.promise).then((value) => {\n",
              "    // Cache the last promise value to make it available to the next\n",
              "    // step of the generator.\n",
              "    outputElement.lastPromiseValue = value;\n",
              "    return next.value.response;\n",
              "  });\n",
              "}\n",
              "\n",
              "/**\n",
              " * Generator function which is called between each async step of the upload\n",
              " * process.\n",
              " * @param {string} inputId Element ID of the input file picker element.\n",
              " * @param {string} outputId Element ID of the output display.\n",
              " * @return {!Iterable<!Object>} Iterable of next steps.\n",
              " */\n",
              "function* uploadFilesStep(inputId, outputId) {\n",
              "  const inputElement = document.getElementById(inputId);\n",
              "  inputElement.disabled = false;\n",
              "\n",
              "  const outputElement = document.getElementById(outputId);\n",
              "  outputElement.innerHTML = '';\n",
              "\n",
              "  const pickedPromise = new Promise((resolve) => {\n",
              "    inputElement.addEventListener('change', (e) => {\n",
              "      resolve(e.target.files);\n",
              "    });\n",
              "  });\n",
              "\n",
              "  const cancel = document.createElement('button');\n",
              "  inputElement.parentElement.appendChild(cancel);\n",
              "  cancel.textContent = 'Cancel upload';\n",
              "  const cancelPromise = new Promise((resolve) => {\n",
              "    cancel.onclick = () => {\n",
              "      resolve(null);\n",
              "    };\n",
              "  });\n",
              "\n",
              "  // Wait for the user to pick the files.\n",
              "  const files = yield {\n",
              "    promise: Promise.race([pickedPromise, cancelPromise]),\n",
              "    response: {\n",
              "      action: 'starting',\n",
              "    }\n",
              "  };\n",
              "\n",
              "  cancel.remove();\n",
              "\n",
              "  // Disable the input element since further picks are not allowed.\n",
              "  inputElement.disabled = true;\n",
              "\n",
              "  if (!files) {\n",
              "    return {\n",
              "      response: {\n",
              "        action: 'complete',\n",
              "      }\n",
              "    };\n",
              "  }\n",
              "\n",
              "  for (const file of files) {\n",
              "    const li = document.createElement('li');\n",
              "    li.append(span(file.name, {fontWeight: 'bold'}));\n",
              "    li.append(span(\n",
              "        `(${file.type || 'n/a'}) - ${file.size} bytes, ` +\n",
              "        `last modified: ${\n",
              "            file.lastModifiedDate ? file.lastModifiedDate.toLocaleDateString() :\n",
              "                                    'n/a'} - `));\n",
              "    const percent = span('0% done');\n",
              "    li.appendChild(percent);\n",
              "\n",
              "    outputElement.appendChild(li);\n",
              "\n",
              "    const fileDataPromise = new Promise((resolve) => {\n",
              "      const reader = new FileReader();\n",
              "      reader.onload = (e) => {\n",
              "        resolve(e.target.result);\n",
              "      };\n",
              "      reader.readAsArrayBuffer(file);\n",
              "    });\n",
              "    // Wait for the data to be ready.\n",
              "    let fileData = yield {\n",
              "      promise: fileDataPromise,\n",
              "      response: {\n",
              "        action: 'continue',\n",
              "      }\n",
              "    };\n",
              "\n",
              "    // Use a chunked sending to avoid message size limits. See b/62115660.\n",
              "    let position = 0;\n",
              "    do {\n",
              "      const length = Math.min(fileData.byteLength - position, MAX_PAYLOAD_SIZE);\n",
              "      const chunk = new Uint8Array(fileData, position, length);\n",
              "      position += length;\n",
              "\n",
              "      const base64 = btoa(String.fromCharCode.apply(null, chunk));\n",
              "      yield {\n",
              "        response: {\n",
              "          action: 'append',\n",
              "          file: file.name,\n",
              "          data: base64,\n",
              "        },\n",
              "      };\n",
              "\n",
              "      let percentDone = fileData.byteLength === 0 ?\n",
              "          100 :\n",
              "          Math.round((position / fileData.byteLength) * 100);\n",
              "      percent.textContent = `${percentDone}% done`;\n",
              "\n",
              "    } while (position < fileData.byteLength);\n",
              "  }\n",
              "\n",
              "  // All done.\n",
              "  yield {\n",
              "    response: {\n",
              "      action: 'complete',\n",
              "    }\n",
              "  };\n",
              "}\n",
              "\n",
              "scope.google = scope.google || {};\n",
              "scope.google.colab = scope.google.colab || {};\n",
              "scope.google.colab._files = {\n",
              "  _uploadFiles,\n",
              "  _uploadFilesContinue,\n",
              "};\n",
              "})(self);\n",
              "</script> "
            ]
          },
          "metadata": {}
        },
        {
          "output_type": "stream",
          "name": "stdout",
          "text": [
            "Saving data.csv to data.csv\n"
          ]
        }
      ],
      "source": [
        "# Завантаження файлу\n",
        "from google.colab import files\n",
        "uploaded = files.upload()"
      ]
    },
    {
      "cell_type": "code",
      "execution_count": 3,
      "metadata": {
        "colab": {
          "base_uri": "https://localhost:8080/"
        },
        "id": "tyI_buIdz4Sy",
        "outputId": "290996ee-a6a2-459e-d0c7-d5a98262f582"
      },
      "outputs": [
        {
          "output_type": "stream",
          "name": "stdout",
          "text": [
            "Визначене кодування: ascii\n"
          ]
        }
      ],
      "source": [
        "# Відкрити файл і прочитати перші 100 000 байт\n",
        "with open(\"data.csv\", \"rb\") as f:\n",
        "    result = chardet.detect(f.read(100000))\n",
        "    encoding_type = result[\"encoding\"]\n",
        "\n",
        "print(f\"Визначене кодування: {encoding_type}\")\n"
      ]
    },
    {
      "cell_type": "code",
      "execution_count": 4,
      "metadata": {
        "id": "Rx_IwhPe0LqL"
      },
      "outputs": [],
      "source": [
        "df = pd.read_csv(\"data.csv\", encoding=\"ISO-8859-1\")\n"
      ]
    },
    {
      "cell_type": "markdown",
      "source": [
        "# 1. Першим етапом нашого дослідження є первинне знайомство з даними, очищення їх від аномалій або дублікатів, заповнення пропущених значень (за їх наявності), перевірка точності розрахунків (якщо деякі дані є результатом операцій над іншими даними з цього ж датасету) тощо"
      ],
      "metadata": {
        "id": "xz3E-rp8wFaW"
      }
    },
    {
      "cell_type": "markdown",
      "source": [
        "\n",
        "\n",
        "*   Розмір датасету\n",
        "\n"
      ],
      "metadata": {
        "id": "kfZu9Us2wTvC"
      }
    },
    {
      "cell_type": "code",
      "execution_count": 5,
      "metadata": {
        "colab": {
          "base_uri": "https://localhost:8080/",
          "height": 206
        },
        "id": "CL61jQmI5d5z",
        "outputId": "0d0e9335-fbc4-4083-ba6f-606c2162b04b"
      },
      "outputs": [
        {
          "output_type": "execute_result",
          "data": {
            "text/plain": [
              "  InvoiceNo StockCode                          Description  Quantity  \\\n",
              "0    536365    85123A   WHITE HANGING HEART T-LIGHT HOLDER         6   \n",
              "1    536365     71053                  WHITE METAL LANTERN         6   \n",
              "2    536365    84406B       CREAM CUPID HEARTS COAT HANGER         8   \n",
              "3    536365    84029G  KNITTED UNION FLAG HOT WATER BOTTLE         6   \n",
              "4    536365    84029E       RED WOOLLY HOTTIE WHITE HEART.         6   \n",
              "\n",
              "      InvoiceDate  UnitPrice  CustomerID         Country  \n",
              "0  12/1/2010 8:26       2.55     17850.0  United Kingdom  \n",
              "1  12/1/2010 8:26       3.39     17850.0  United Kingdom  \n",
              "2  12/1/2010 8:26       2.75     17850.0  United Kingdom  \n",
              "3  12/1/2010 8:26       3.39     17850.0  United Kingdom  \n",
              "4  12/1/2010 8:26       3.39     17850.0  United Kingdom  "
            ],
            "text/html": [
              "\n",
              "  <div id=\"df-23e09688-b612-4cb2-98fe-6b9b9057431f\" class=\"colab-df-container\">\n",
              "    <div>\n",
              "<style scoped>\n",
              "    .dataframe tbody tr th:only-of-type {\n",
              "        vertical-align: middle;\n",
              "    }\n",
              "\n",
              "    .dataframe tbody tr th {\n",
              "        vertical-align: top;\n",
              "    }\n",
              "\n",
              "    .dataframe thead th {\n",
              "        text-align: right;\n",
              "    }\n",
              "</style>\n",
              "<table border=\"1\" class=\"dataframe\">\n",
              "  <thead>\n",
              "    <tr style=\"text-align: right;\">\n",
              "      <th></th>\n",
              "      <th>InvoiceNo</th>\n",
              "      <th>StockCode</th>\n",
              "      <th>Description</th>\n",
              "      <th>Quantity</th>\n",
              "      <th>InvoiceDate</th>\n",
              "      <th>UnitPrice</th>\n",
              "      <th>CustomerID</th>\n",
              "      <th>Country</th>\n",
              "    </tr>\n",
              "  </thead>\n",
              "  <tbody>\n",
              "    <tr>\n",
              "      <th>0</th>\n",
              "      <td>536365</td>\n",
              "      <td>85123A</td>\n",
              "      <td>WHITE HANGING HEART T-LIGHT HOLDER</td>\n",
              "      <td>6</td>\n",
              "      <td>12/1/2010 8:26</td>\n",
              "      <td>2.55</td>\n",
              "      <td>17850.0</td>\n",
              "      <td>United Kingdom</td>\n",
              "    </tr>\n",
              "    <tr>\n",
              "      <th>1</th>\n",
              "      <td>536365</td>\n",
              "      <td>71053</td>\n",
              "      <td>WHITE METAL LANTERN</td>\n",
              "      <td>6</td>\n",
              "      <td>12/1/2010 8:26</td>\n",
              "      <td>3.39</td>\n",
              "      <td>17850.0</td>\n",
              "      <td>United Kingdom</td>\n",
              "    </tr>\n",
              "    <tr>\n",
              "      <th>2</th>\n",
              "      <td>536365</td>\n",
              "      <td>84406B</td>\n",
              "      <td>CREAM CUPID HEARTS COAT HANGER</td>\n",
              "      <td>8</td>\n",
              "      <td>12/1/2010 8:26</td>\n",
              "      <td>2.75</td>\n",
              "      <td>17850.0</td>\n",
              "      <td>United Kingdom</td>\n",
              "    </tr>\n",
              "    <tr>\n",
              "      <th>3</th>\n",
              "      <td>536365</td>\n",
              "      <td>84029G</td>\n",
              "      <td>KNITTED UNION FLAG HOT WATER BOTTLE</td>\n",
              "      <td>6</td>\n",
              "      <td>12/1/2010 8:26</td>\n",
              "      <td>3.39</td>\n",
              "      <td>17850.0</td>\n",
              "      <td>United Kingdom</td>\n",
              "    </tr>\n",
              "    <tr>\n",
              "      <th>4</th>\n",
              "      <td>536365</td>\n",
              "      <td>84029E</td>\n",
              "      <td>RED WOOLLY HOTTIE WHITE HEART.</td>\n",
              "      <td>6</td>\n",
              "      <td>12/1/2010 8:26</td>\n",
              "      <td>3.39</td>\n",
              "      <td>17850.0</td>\n",
              "      <td>United Kingdom</td>\n",
              "    </tr>\n",
              "  </tbody>\n",
              "</table>\n",
              "</div>\n",
              "    <div class=\"colab-df-buttons\">\n",
              "\n",
              "  <div class=\"colab-df-container\">\n",
              "    <button class=\"colab-df-convert\" onclick=\"convertToInteractive('df-23e09688-b612-4cb2-98fe-6b9b9057431f')\"\n",
              "            title=\"Convert this dataframe to an interactive table.\"\n",
              "            style=\"display:none;\">\n",
              "\n",
              "  <svg xmlns=\"http://www.w3.org/2000/svg\" height=\"24px\" viewBox=\"0 -960 960 960\">\n",
              "    <path d=\"M120-120v-720h720v720H120Zm60-500h600v-160H180v160Zm220 220h160v-160H400v160Zm0 220h160v-160H400v160ZM180-400h160v-160H180v160Zm440 0h160v-160H620v160ZM180-180h160v-160H180v160Zm440 0h160v-160H620v160Z\"/>\n",
              "  </svg>\n",
              "    </button>\n",
              "\n",
              "  <style>\n",
              "    .colab-df-container {\n",
              "      display:flex;\n",
              "      gap: 12px;\n",
              "    }\n",
              "\n",
              "    .colab-df-convert {\n",
              "      background-color: #E8F0FE;\n",
              "      border: none;\n",
              "      border-radius: 50%;\n",
              "      cursor: pointer;\n",
              "      display: none;\n",
              "      fill: #1967D2;\n",
              "      height: 32px;\n",
              "      padding: 0 0 0 0;\n",
              "      width: 32px;\n",
              "    }\n",
              "\n",
              "    .colab-df-convert:hover {\n",
              "      background-color: #E2EBFA;\n",
              "      box-shadow: 0px 1px 2px rgba(60, 64, 67, 0.3), 0px 1px 3px 1px rgba(60, 64, 67, 0.15);\n",
              "      fill: #174EA6;\n",
              "    }\n",
              "\n",
              "    .colab-df-buttons div {\n",
              "      margin-bottom: 4px;\n",
              "    }\n",
              "\n",
              "    [theme=dark] .colab-df-convert {\n",
              "      background-color: #3B4455;\n",
              "      fill: #D2E3FC;\n",
              "    }\n",
              "\n",
              "    [theme=dark] .colab-df-convert:hover {\n",
              "      background-color: #434B5C;\n",
              "      box-shadow: 0px 1px 3px 1px rgba(0, 0, 0, 0.15);\n",
              "      filter: drop-shadow(0px 1px 2px rgba(0, 0, 0, 0.3));\n",
              "      fill: #FFFFFF;\n",
              "    }\n",
              "  </style>\n",
              "\n",
              "    <script>\n",
              "      const buttonEl =\n",
              "        document.querySelector('#df-23e09688-b612-4cb2-98fe-6b9b9057431f button.colab-df-convert');\n",
              "      buttonEl.style.display =\n",
              "        google.colab.kernel.accessAllowed ? 'block' : 'none';\n",
              "\n",
              "      async function convertToInteractive(key) {\n",
              "        const element = document.querySelector('#df-23e09688-b612-4cb2-98fe-6b9b9057431f');\n",
              "        const dataTable =\n",
              "          await google.colab.kernel.invokeFunction('convertToInteractive',\n",
              "                                                    [key], {});\n",
              "        if (!dataTable) return;\n",
              "\n",
              "        const docLinkHtml = 'Like what you see? Visit the ' +\n",
              "          '<a target=\"_blank\" href=https://colab.research.google.com/notebooks/data_table.ipynb>data table notebook</a>'\n",
              "          + ' to learn more about interactive tables.';\n",
              "        element.innerHTML = '';\n",
              "        dataTable['output_type'] = 'display_data';\n",
              "        await google.colab.output.renderOutput(dataTable, element);\n",
              "        const docLink = document.createElement('div');\n",
              "        docLink.innerHTML = docLinkHtml;\n",
              "        element.appendChild(docLink);\n",
              "      }\n",
              "    </script>\n",
              "  </div>\n",
              "\n",
              "\n",
              "<div id=\"df-598399da-6ac9-4800-9ca6-127a52c9e74f\">\n",
              "  <button class=\"colab-df-quickchart\" onclick=\"quickchart('df-598399da-6ac9-4800-9ca6-127a52c9e74f')\"\n",
              "            title=\"Suggest charts\"\n",
              "            style=\"display:none;\">\n",
              "\n",
              "<svg xmlns=\"http://www.w3.org/2000/svg\" height=\"24px\"viewBox=\"0 0 24 24\"\n",
              "     width=\"24px\">\n",
              "    <g>\n",
              "        <path d=\"M19 3H5c-1.1 0-2 .9-2 2v14c0 1.1.9 2 2 2h14c1.1 0 2-.9 2-2V5c0-1.1-.9-2-2-2zM9 17H7v-7h2v7zm4 0h-2V7h2v10zm4 0h-2v-4h2v4z\"/>\n",
              "    </g>\n",
              "</svg>\n",
              "  </button>\n",
              "\n",
              "<style>\n",
              "  .colab-df-quickchart {\n",
              "      --bg-color: #E8F0FE;\n",
              "      --fill-color: #1967D2;\n",
              "      --hover-bg-color: #E2EBFA;\n",
              "      --hover-fill-color: #174EA6;\n",
              "      --disabled-fill-color: #AAA;\n",
              "      --disabled-bg-color: #DDD;\n",
              "  }\n",
              "\n",
              "  [theme=dark] .colab-df-quickchart {\n",
              "      --bg-color: #3B4455;\n",
              "      --fill-color: #D2E3FC;\n",
              "      --hover-bg-color: #434B5C;\n",
              "      --hover-fill-color: #FFFFFF;\n",
              "      --disabled-bg-color: #3B4455;\n",
              "      --disabled-fill-color: #666;\n",
              "  }\n",
              "\n",
              "  .colab-df-quickchart {\n",
              "    background-color: var(--bg-color);\n",
              "    border: none;\n",
              "    border-radius: 50%;\n",
              "    cursor: pointer;\n",
              "    display: none;\n",
              "    fill: var(--fill-color);\n",
              "    height: 32px;\n",
              "    padding: 0;\n",
              "    width: 32px;\n",
              "  }\n",
              "\n",
              "  .colab-df-quickchart:hover {\n",
              "    background-color: var(--hover-bg-color);\n",
              "    box-shadow: 0 1px 2px rgba(60, 64, 67, 0.3), 0 1px 3px 1px rgba(60, 64, 67, 0.15);\n",
              "    fill: var(--button-hover-fill-color);\n",
              "  }\n",
              "\n",
              "  .colab-df-quickchart-complete:disabled,\n",
              "  .colab-df-quickchart-complete:disabled:hover {\n",
              "    background-color: var(--disabled-bg-color);\n",
              "    fill: var(--disabled-fill-color);\n",
              "    box-shadow: none;\n",
              "  }\n",
              "\n",
              "  .colab-df-spinner {\n",
              "    border: 2px solid var(--fill-color);\n",
              "    border-color: transparent;\n",
              "    border-bottom-color: var(--fill-color);\n",
              "    animation:\n",
              "      spin 1s steps(1) infinite;\n",
              "  }\n",
              "\n",
              "  @keyframes spin {\n",
              "    0% {\n",
              "      border-color: transparent;\n",
              "      border-bottom-color: var(--fill-color);\n",
              "      border-left-color: var(--fill-color);\n",
              "    }\n",
              "    20% {\n",
              "      border-color: transparent;\n",
              "      border-left-color: var(--fill-color);\n",
              "      border-top-color: var(--fill-color);\n",
              "    }\n",
              "    30% {\n",
              "      border-color: transparent;\n",
              "      border-left-color: var(--fill-color);\n",
              "      border-top-color: var(--fill-color);\n",
              "      border-right-color: var(--fill-color);\n",
              "    }\n",
              "    40% {\n",
              "      border-color: transparent;\n",
              "      border-right-color: var(--fill-color);\n",
              "      border-top-color: var(--fill-color);\n",
              "    }\n",
              "    60% {\n",
              "      border-color: transparent;\n",
              "      border-right-color: var(--fill-color);\n",
              "    }\n",
              "    80% {\n",
              "      border-color: transparent;\n",
              "      border-right-color: var(--fill-color);\n",
              "      border-bottom-color: var(--fill-color);\n",
              "    }\n",
              "    90% {\n",
              "      border-color: transparent;\n",
              "      border-bottom-color: var(--fill-color);\n",
              "    }\n",
              "  }\n",
              "</style>\n",
              "\n",
              "  <script>\n",
              "    async function quickchart(key) {\n",
              "      const quickchartButtonEl =\n",
              "        document.querySelector('#' + key + ' button');\n",
              "      quickchartButtonEl.disabled = true;  // To prevent multiple clicks.\n",
              "      quickchartButtonEl.classList.add('colab-df-spinner');\n",
              "      try {\n",
              "        const charts = await google.colab.kernel.invokeFunction(\n",
              "            'suggestCharts', [key], {});\n",
              "      } catch (error) {\n",
              "        console.error('Error during call to suggestCharts:', error);\n",
              "      }\n",
              "      quickchartButtonEl.classList.remove('colab-df-spinner');\n",
              "      quickchartButtonEl.classList.add('colab-df-quickchart-complete');\n",
              "    }\n",
              "    (() => {\n",
              "      let quickchartButtonEl =\n",
              "        document.querySelector('#df-598399da-6ac9-4800-9ca6-127a52c9e74f button');\n",
              "      quickchartButtonEl.style.display =\n",
              "        google.colab.kernel.accessAllowed ? 'block' : 'none';\n",
              "    })();\n",
              "  </script>\n",
              "</div>\n",
              "    </div>\n",
              "  </div>\n"
            ],
            "application/vnd.google.colaboratory.intrinsic+json": {
              "type": "dataframe",
              "variable_name": "df"
            }
          },
          "metadata": {},
          "execution_count": 5
        }
      ],
      "source": [
        "df.head(5)"
      ]
    },
    {
      "cell_type": "code",
      "execution_count": 6,
      "metadata": {
        "colab": {
          "base_uri": "https://localhost:8080/"
        },
        "id": "lmTgkekP5Lb-",
        "outputId": "6269090a-a94d-4b59-ae5b-b9e6c16cf714"
      },
      "outputs": [
        {
          "output_type": "stream",
          "name": "stdout",
          "text": [
            "There are 1000 rows and 8 columns\n"
          ]
        }
      ],
      "source": [
        "nRowsRead = 1000 # specify 'None' if want to read whole file\n",
        "# data.csv has 541909 rows in reality, but we are only loading/previewing the first 1000 rows\n",
        "df1 = pd.read_csv('/content/data.csv', delimiter=',', nrows = nRowsRead)\n",
        "df1.dataframeName = 'data.csv'\n",
        "nRow, nCol = df1.shape\n",
        "print(f'There are {nRow} rows and {nCol} columns')"
      ]
    },
    {
      "cell_type": "code",
      "execution_count": 7,
      "metadata": {
        "colab": {
          "base_uri": "https://localhost:8080/"
        },
        "id": "NDIo3nKE9n2I",
        "outputId": "cdf70139-13bf-4f0b-eaed-f77ea13547e2"
      },
      "outputs": [
        {
          "output_type": "stream",
          "name": "stdout",
          "text": [
            "<class 'pandas.core.frame.DataFrame'>\n",
            "RangeIndex: 1000 entries, 0 to 999\n",
            "Data columns (total 8 columns):\n",
            " #   Column       Non-Null Count  Dtype  \n",
            "---  ------       --------------  -----  \n",
            " 0   InvoiceNo    1000 non-null   object \n",
            " 1   StockCode    1000 non-null   object \n",
            " 2   Description  999 non-null    object \n",
            " 3   Quantity     1000 non-null   int64  \n",
            " 4   InvoiceDate  1000 non-null   object \n",
            " 5   UnitPrice    1000 non-null   float64\n",
            " 6   CustomerID   999 non-null    float64\n",
            " 7   Country      1000 non-null   object \n",
            "dtypes: float64(2), int64(1), object(5)\n",
            "memory usage: 62.6+ KB\n"
          ]
        }
      ],
      "source": [
        "df1.info()"
      ]
    },
    {
      "cell_type": "markdown",
      "source": [
        "\n",
        "\n",
        "*   типи даних в датасеті\n",
        "\n"
      ],
      "metadata": {
        "id": "YFpu5lxZyWNX"
      }
    },
    {
      "cell_type": "code",
      "source": [
        "df1.dtypes"
      ],
      "metadata": {
        "colab": {
          "base_uri": "https://localhost:8080/",
          "height": 335
        },
        "id": "dwJVi7dbykhx",
        "outputId": "62576085-e2f6-46d2-c831-4ea420079738"
      },
      "execution_count": 8,
      "outputs": [
        {
          "output_type": "execute_result",
          "data": {
            "text/plain": [
              "InvoiceNo       object\n",
              "StockCode       object\n",
              "Description     object\n",
              "Quantity         int64\n",
              "InvoiceDate     object\n",
              "UnitPrice      float64\n",
              "CustomerID     float64\n",
              "Country         object\n",
              "dtype: object"
            ],
            "text/html": [
              "<div>\n",
              "<style scoped>\n",
              "    .dataframe tbody tr th:only-of-type {\n",
              "        vertical-align: middle;\n",
              "    }\n",
              "\n",
              "    .dataframe tbody tr th {\n",
              "        vertical-align: top;\n",
              "    }\n",
              "\n",
              "    .dataframe thead th {\n",
              "        text-align: right;\n",
              "    }\n",
              "</style>\n",
              "<table border=\"1\" class=\"dataframe\">\n",
              "  <thead>\n",
              "    <tr style=\"text-align: right;\">\n",
              "      <th></th>\n",
              "      <th>0</th>\n",
              "    </tr>\n",
              "  </thead>\n",
              "  <tbody>\n",
              "    <tr>\n",
              "      <th>InvoiceNo</th>\n",
              "      <td>object</td>\n",
              "    </tr>\n",
              "    <tr>\n",
              "      <th>StockCode</th>\n",
              "      <td>object</td>\n",
              "    </tr>\n",
              "    <tr>\n",
              "      <th>Description</th>\n",
              "      <td>object</td>\n",
              "    </tr>\n",
              "    <tr>\n",
              "      <th>Quantity</th>\n",
              "      <td>int64</td>\n",
              "    </tr>\n",
              "    <tr>\n",
              "      <th>InvoiceDate</th>\n",
              "      <td>object</td>\n",
              "    </tr>\n",
              "    <tr>\n",
              "      <th>UnitPrice</th>\n",
              "      <td>float64</td>\n",
              "    </tr>\n",
              "    <tr>\n",
              "      <th>CustomerID</th>\n",
              "      <td>float64</td>\n",
              "    </tr>\n",
              "    <tr>\n",
              "      <th>Country</th>\n",
              "      <td>object</td>\n",
              "    </tr>\n",
              "  </tbody>\n",
              "</table>\n",
              "</div><br><label><b>dtype:</b> object</label>"
            ]
          },
          "metadata": {},
          "execution_count": 8
        }
      ]
    },
    {
      "cell_type": "markdown",
      "source": [
        "* наявність пропущених значень\n"
      ],
      "metadata": {
        "id": "1tTOlg7uz7kC"
      }
    },
    {
      "cell_type": "code",
      "execution_count": 9,
      "metadata": {
        "colab": {
          "base_uri": "https://localhost:8080/",
          "height": 335
        },
        "id": "GptyMJBH92e2",
        "outputId": "7c2d204c-d09a-435b-ffdf-19c47b6dd164"
      },
      "outputs": [
        {
          "output_type": "execute_result",
          "data": {
            "text/plain": [
              "InvoiceNo      0\n",
              "StockCode      0\n",
              "Description    1\n",
              "Quantity       0\n",
              "InvoiceDate    0\n",
              "UnitPrice      0\n",
              "CustomerID     1\n",
              "Country        0\n",
              "dtype: int64"
            ],
            "text/html": [
              "<div>\n",
              "<style scoped>\n",
              "    .dataframe tbody tr th:only-of-type {\n",
              "        vertical-align: middle;\n",
              "    }\n",
              "\n",
              "    .dataframe tbody tr th {\n",
              "        vertical-align: top;\n",
              "    }\n",
              "\n",
              "    .dataframe thead th {\n",
              "        text-align: right;\n",
              "    }\n",
              "</style>\n",
              "<table border=\"1\" class=\"dataframe\">\n",
              "  <thead>\n",
              "    <tr style=\"text-align: right;\">\n",
              "      <th></th>\n",
              "      <th>0</th>\n",
              "    </tr>\n",
              "  </thead>\n",
              "  <tbody>\n",
              "    <tr>\n",
              "      <th>InvoiceNo</th>\n",
              "      <td>0</td>\n",
              "    </tr>\n",
              "    <tr>\n",
              "      <th>StockCode</th>\n",
              "      <td>0</td>\n",
              "    </tr>\n",
              "    <tr>\n",
              "      <th>Description</th>\n",
              "      <td>1</td>\n",
              "    </tr>\n",
              "    <tr>\n",
              "      <th>Quantity</th>\n",
              "      <td>0</td>\n",
              "    </tr>\n",
              "    <tr>\n",
              "      <th>InvoiceDate</th>\n",
              "      <td>0</td>\n",
              "    </tr>\n",
              "    <tr>\n",
              "      <th>UnitPrice</th>\n",
              "      <td>0</td>\n",
              "    </tr>\n",
              "    <tr>\n",
              "      <th>CustomerID</th>\n",
              "      <td>1</td>\n",
              "    </tr>\n",
              "    <tr>\n",
              "      <th>Country</th>\n",
              "      <td>0</td>\n",
              "    </tr>\n",
              "  </tbody>\n",
              "</table>\n",
              "</div><br><label><b>dtype:</b> int64</label>"
            ]
          },
          "metadata": {},
          "execution_count": 9
        }
      ],
      "source": [
        "df1.isna().sum()"
      ]
    },
    {
      "cell_type": "markdown",
      "source": [
        "* наявність дублікатів"
      ],
      "metadata": {
        "id": "TcbsIPe60ikz"
      }
    },
    {
      "cell_type": "code",
      "source": [
        "df1.duplicated().value_counts()"
      ],
      "metadata": {
        "colab": {
          "base_uri": "https://localhost:8080/",
          "height": 147
        },
        "id": "HQWlMvZ50nq_",
        "outputId": "0dc90dad-2629-48dd-b70c-1e1a03f8acf4"
      },
      "execution_count": 10,
      "outputs": [
        {
          "output_type": "execute_result",
          "data": {
            "text/plain": [
              "False    977\n",
              "True      23\n",
              "Name: count, dtype: int64"
            ],
            "text/html": [
              "<div>\n",
              "<style scoped>\n",
              "    .dataframe tbody tr th:only-of-type {\n",
              "        vertical-align: middle;\n",
              "    }\n",
              "\n",
              "    .dataframe tbody tr th {\n",
              "        vertical-align: top;\n",
              "    }\n",
              "\n",
              "    .dataframe thead th {\n",
              "        text-align: right;\n",
              "    }\n",
              "</style>\n",
              "<table border=\"1\" class=\"dataframe\">\n",
              "  <thead>\n",
              "    <tr style=\"text-align: right;\">\n",
              "      <th></th>\n",
              "      <th>count</th>\n",
              "    </tr>\n",
              "  </thead>\n",
              "  <tbody>\n",
              "    <tr>\n",
              "      <th>False</th>\n",
              "      <td>977</td>\n",
              "    </tr>\n",
              "    <tr>\n",
              "      <th>True</th>\n",
              "      <td>23</td>\n",
              "    </tr>\n",
              "  </tbody>\n",
              "</table>\n",
              "</div><br><label><b>dtype:</b> int64</label>"
            ]
          },
          "metadata": {},
          "execution_count": 10
        }
      ]
    },
    {
      "cell_type": "code",
      "source": [
        "clean_df = df1.copy(deep=True)\n",
        "clean_df.drop_duplicates(inplace=True)"
      ],
      "metadata": {
        "id": "aL7RqIaT-O8F"
      },
      "execution_count": 11,
      "outputs": []
    },
    {
      "cell_type": "code",
      "execution_count": 12,
      "metadata": {
        "colab": {
          "base_uri": "https://localhost:8080/",
          "height": 300
        },
        "id": "CPSMLK6T9-8l",
        "outputId": "9ea39c36-783e-4b44-c607-e4cf0eb9f942"
      },
      "outputs": [
        {
          "output_type": "execute_result",
          "data": {
            "text/plain": [
              "         Quantity   UnitPrice    CustomerID\n",
              "count  977.000000  977.000000    976.000000\n",
              "mean    13.041965    3.045353  15980.289959\n",
              "std     38.835868    5.963236   1864.742095\n",
              "min    -24.000000    0.000000  12431.000000\n",
              "25%      2.000000    1.250000  14307.000000\n",
              "50%      4.000000    1.950000  16098.000000\n",
              "75%     12.000000    3.750000  17897.000000\n",
              "max    600.000000  165.000000  18085.000000"
            ],
            "text/html": [
              "\n",
              "  <div id=\"df-70f4ec34-eab6-49a8-b34c-67256462be49\" class=\"colab-df-container\">\n",
              "    <div>\n",
              "<style scoped>\n",
              "    .dataframe tbody tr th:only-of-type {\n",
              "        vertical-align: middle;\n",
              "    }\n",
              "\n",
              "    .dataframe tbody tr th {\n",
              "        vertical-align: top;\n",
              "    }\n",
              "\n",
              "    .dataframe thead th {\n",
              "        text-align: right;\n",
              "    }\n",
              "</style>\n",
              "<table border=\"1\" class=\"dataframe\">\n",
              "  <thead>\n",
              "    <tr style=\"text-align: right;\">\n",
              "      <th></th>\n",
              "      <th>Quantity</th>\n",
              "      <th>UnitPrice</th>\n",
              "      <th>CustomerID</th>\n",
              "    </tr>\n",
              "  </thead>\n",
              "  <tbody>\n",
              "    <tr>\n",
              "      <th>count</th>\n",
              "      <td>977.000000</td>\n",
              "      <td>977.000000</td>\n",
              "      <td>976.000000</td>\n",
              "    </tr>\n",
              "    <tr>\n",
              "      <th>mean</th>\n",
              "      <td>13.041965</td>\n",
              "      <td>3.045353</td>\n",
              "      <td>15980.289959</td>\n",
              "    </tr>\n",
              "    <tr>\n",
              "      <th>std</th>\n",
              "      <td>38.835868</td>\n",
              "      <td>5.963236</td>\n",
              "      <td>1864.742095</td>\n",
              "    </tr>\n",
              "    <tr>\n",
              "      <th>min</th>\n",
              "      <td>-24.000000</td>\n",
              "      <td>0.000000</td>\n",
              "      <td>12431.000000</td>\n",
              "    </tr>\n",
              "    <tr>\n",
              "      <th>25%</th>\n",
              "      <td>2.000000</td>\n",
              "      <td>1.250000</td>\n",
              "      <td>14307.000000</td>\n",
              "    </tr>\n",
              "    <tr>\n",
              "      <th>50%</th>\n",
              "      <td>4.000000</td>\n",
              "      <td>1.950000</td>\n",
              "      <td>16098.000000</td>\n",
              "    </tr>\n",
              "    <tr>\n",
              "      <th>75%</th>\n",
              "      <td>12.000000</td>\n",
              "      <td>3.750000</td>\n",
              "      <td>17897.000000</td>\n",
              "    </tr>\n",
              "    <tr>\n",
              "      <th>max</th>\n",
              "      <td>600.000000</td>\n",
              "      <td>165.000000</td>\n",
              "      <td>18085.000000</td>\n",
              "    </tr>\n",
              "  </tbody>\n",
              "</table>\n",
              "</div>\n",
              "    <div class=\"colab-df-buttons\">\n",
              "\n",
              "  <div class=\"colab-df-container\">\n",
              "    <button class=\"colab-df-convert\" onclick=\"convertToInteractive('df-70f4ec34-eab6-49a8-b34c-67256462be49')\"\n",
              "            title=\"Convert this dataframe to an interactive table.\"\n",
              "            style=\"display:none;\">\n",
              "\n",
              "  <svg xmlns=\"http://www.w3.org/2000/svg\" height=\"24px\" viewBox=\"0 -960 960 960\">\n",
              "    <path d=\"M120-120v-720h720v720H120Zm60-500h600v-160H180v160Zm220 220h160v-160H400v160Zm0 220h160v-160H400v160ZM180-400h160v-160H180v160Zm440 0h160v-160H620v160ZM180-180h160v-160H180v160Zm440 0h160v-160H620v160Z\"/>\n",
              "  </svg>\n",
              "    </button>\n",
              "\n",
              "  <style>\n",
              "    .colab-df-container {\n",
              "      display:flex;\n",
              "      gap: 12px;\n",
              "    }\n",
              "\n",
              "    .colab-df-convert {\n",
              "      background-color: #E8F0FE;\n",
              "      border: none;\n",
              "      border-radius: 50%;\n",
              "      cursor: pointer;\n",
              "      display: none;\n",
              "      fill: #1967D2;\n",
              "      height: 32px;\n",
              "      padding: 0 0 0 0;\n",
              "      width: 32px;\n",
              "    }\n",
              "\n",
              "    .colab-df-convert:hover {\n",
              "      background-color: #E2EBFA;\n",
              "      box-shadow: 0px 1px 2px rgba(60, 64, 67, 0.3), 0px 1px 3px 1px rgba(60, 64, 67, 0.15);\n",
              "      fill: #174EA6;\n",
              "    }\n",
              "\n",
              "    .colab-df-buttons div {\n",
              "      margin-bottom: 4px;\n",
              "    }\n",
              "\n",
              "    [theme=dark] .colab-df-convert {\n",
              "      background-color: #3B4455;\n",
              "      fill: #D2E3FC;\n",
              "    }\n",
              "\n",
              "    [theme=dark] .colab-df-convert:hover {\n",
              "      background-color: #434B5C;\n",
              "      box-shadow: 0px 1px 3px 1px rgba(0, 0, 0, 0.15);\n",
              "      filter: drop-shadow(0px 1px 2px rgba(0, 0, 0, 0.3));\n",
              "      fill: #FFFFFF;\n",
              "    }\n",
              "  </style>\n",
              "\n",
              "    <script>\n",
              "      const buttonEl =\n",
              "        document.querySelector('#df-70f4ec34-eab6-49a8-b34c-67256462be49 button.colab-df-convert');\n",
              "      buttonEl.style.display =\n",
              "        google.colab.kernel.accessAllowed ? 'block' : 'none';\n",
              "\n",
              "      async function convertToInteractive(key) {\n",
              "        const element = document.querySelector('#df-70f4ec34-eab6-49a8-b34c-67256462be49');\n",
              "        const dataTable =\n",
              "          await google.colab.kernel.invokeFunction('convertToInteractive',\n",
              "                                                    [key], {});\n",
              "        if (!dataTable) return;\n",
              "\n",
              "        const docLinkHtml = 'Like what you see? Visit the ' +\n",
              "          '<a target=\"_blank\" href=https://colab.research.google.com/notebooks/data_table.ipynb>data table notebook</a>'\n",
              "          + ' to learn more about interactive tables.';\n",
              "        element.innerHTML = '';\n",
              "        dataTable['output_type'] = 'display_data';\n",
              "        await google.colab.output.renderOutput(dataTable, element);\n",
              "        const docLink = document.createElement('div');\n",
              "        docLink.innerHTML = docLinkHtml;\n",
              "        element.appendChild(docLink);\n",
              "      }\n",
              "    </script>\n",
              "  </div>\n",
              "\n",
              "\n",
              "<div id=\"df-bec08edb-04ad-47b9-812e-e09a9a82d123\">\n",
              "  <button class=\"colab-df-quickchart\" onclick=\"quickchart('df-bec08edb-04ad-47b9-812e-e09a9a82d123')\"\n",
              "            title=\"Suggest charts\"\n",
              "            style=\"display:none;\">\n",
              "\n",
              "<svg xmlns=\"http://www.w3.org/2000/svg\" height=\"24px\"viewBox=\"0 0 24 24\"\n",
              "     width=\"24px\">\n",
              "    <g>\n",
              "        <path d=\"M19 3H5c-1.1 0-2 .9-2 2v14c0 1.1.9 2 2 2h14c1.1 0 2-.9 2-2V5c0-1.1-.9-2-2-2zM9 17H7v-7h2v7zm4 0h-2V7h2v10zm4 0h-2v-4h2v4z\"/>\n",
              "    </g>\n",
              "</svg>\n",
              "  </button>\n",
              "\n",
              "<style>\n",
              "  .colab-df-quickchart {\n",
              "      --bg-color: #E8F0FE;\n",
              "      --fill-color: #1967D2;\n",
              "      --hover-bg-color: #E2EBFA;\n",
              "      --hover-fill-color: #174EA6;\n",
              "      --disabled-fill-color: #AAA;\n",
              "      --disabled-bg-color: #DDD;\n",
              "  }\n",
              "\n",
              "  [theme=dark] .colab-df-quickchart {\n",
              "      --bg-color: #3B4455;\n",
              "      --fill-color: #D2E3FC;\n",
              "      --hover-bg-color: #434B5C;\n",
              "      --hover-fill-color: #FFFFFF;\n",
              "      --disabled-bg-color: #3B4455;\n",
              "      --disabled-fill-color: #666;\n",
              "  }\n",
              "\n",
              "  .colab-df-quickchart {\n",
              "    background-color: var(--bg-color);\n",
              "    border: none;\n",
              "    border-radius: 50%;\n",
              "    cursor: pointer;\n",
              "    display: none;\n",
              "    fill: var(--fill-color);\n",
              "    height: 32px;\n",
              "    padding: 0;\n",
              "    width: 32px;\n",
              "  }\n",
              "\n",
              "  .colab-df-quickchart:hover {\n",
              "    background-color: var(--hover-bg-color);\n",
              "    box-shadow: 0 1px 2px rgba(60, 64, 67, 0.3), 0 1px 3px 1px rgba(60, 64, 67, 0.15);\n",
              "    fill: var(--button-hover-fill-color);\n",
              "  }\n",
              "\n",
              "  .colab-df-quickchart-complete:disabled,\n",
              "  .colab-df-quickchart-complete:disabled:hover {\n",
              "    background-color: var(--disabled-bg-color);\n",
              "    fill: var(--disabled-fill-color);\n",
              "    box-shadow: none;\n",
              "  }\n",
              "\n",
              "  .colab-df-spinner {\n",
              "    border: 2px solid var(--fill-color);\n",
              "    border-color: transparent;\n",
              "    border-bottom-color: var(--fill-color);\n",
              "    animation:\n",
              "      spin 1s steps(1) infinite;\n",
              "  }\n",
              "\n",
              "  @keyframes spin {\n",
              "    0% {\n",
              "      border-color: transparent;\n",
              "      border-bottom-color: var(--fill-color);\n",
              "      border-left-color: var(--fill-color);\n",
              "    }\n",
              "    20% {\n",
              "      border-color: transparent;\n",
              "      border-left-color: var(--fill-color);\n",
              "      border-top-color: var(--fill-color);\n",
              "    }\n",
              "    30% {\n",
              "      border-color: transparent;\n",
              "      border-left-color: var(--fill-color);\n",
              "      border-top-color: var(--fill-color);\n",
              "      border-right-color: var(--fill-color);\n",
              "    }\n",
              "    40% {\n",
              "      border-color: transparent;\n",
              "      border-right-color: var(--fill-color);\n",
              "      border-top-color: var(--fill-color);\n",
              "    }\n",
              "    60% {\n",
              "      border-color: transparent;\n",
              "      border-right-color: var(--fill-color);\n",
              "    }\n",
              "    80% {\n",
              "      border-color: transparent;\n",
              "      border-right-color: var(--fill-color);\n",
              "      border-bottom-color: var(--fill-color);\n",
              "    }\n",
              "    90% {\n",
              "      border-color: transparent;\n",
              "      border-bottom-color: var(--fill-color);\n",
              "    }\n",
              "  }\n",
              "</style>\n",
              "\n",
              "  <script>\n",
              "    async function quickchart(key) {\n",
              "      const quickchartButtonEl =\n",
              "        document.querySelector('#' + key + ' button');\n",
              "      quickchartButtonEl.disabled = true;  // To prevent multiple clicks.\n",
              "      quickchartButtonEl.classList.add('colab-df-spinner');\n",
              "      try {\n",
              "        const charts = await google.colab.kernel.invokeFunction(\n",
              "            'suggestCharts', [key], {});\n",
              "      } catch (error) {\n",
              "        console.error('Error during call to suggestCharts:', error);\n",
              "      }\n",
              "      quickchartButtonEl.classList.remove('colab-df-spinner');\n",
              "      quickchartButtonEl.classList.add('colab-df-quickchart-complete');\n",
              "    }\n",
              "    (() => {\n",
              "      let quickchartButtonEl =\n",
              "        document.querySelector('#df-bec08edb-04ad-47b9-812e-e09a9a82d123 button');\n",
              "      quickchartButtonEl.style.display =\n",
              "        google.colab.kernel.accessAllowed ? 'block' : 'none';\n",
              "    })();\n",
              "  </script>\n",
              "</div>\n",
              "    </div>\n",
              "  </div>\n"
            ],
            "application/vnd.google.colaboratory.intrinsic+json": {
              "type": "dataframe",
              "summary": "{\n  \"name\": \"clean_df\",\n  \"rows\": 8,\n  \"fields\": [\n    {\n      \"column\": \"Quantity\",\n      \"properties\": {\n        \"dtype\": \"number\",\n        \"std\": 375.6386484934737,\n        \"min\": -24.0,\n        \"max\": 977.0,\n        \"num_unique_values\": 8,\n        \"samples\": [\n          13.041965199590583,\n          4.0,\n          977.0\n        ],\n        \"semantic_type\": \"\",\n        \"description\": \"\"\n      }\n    },\n    {\n      \"column\": \"UnitPrice\",\n      \"properties\": {\n        \"dtype\": \"number\",\n        \"std\": 341.0508445487851,\n        \"min\": 0.0,\n        \"max\": 977.0,\n        \"num_unique_values\": 8,\n        \"samples\": [\n          3.045353121801433,\n          1.95,\n          977.0\n        ],\n        \"semantic_type\": \"\",\n        \"description\": \"\"\n      }\n    },\n    {\n      \"column\": \"CustomerID\",\n      \"properties\": {\n        \"dtype\": \"number\",\n        \"std\": 6906.1295930623855,\n        \"min\": 976.0,\n        \"max\": 18085.0,\n        \"num_unique_values\": 8,\n        \"samples\": [\n          15980.289959016394,\n          16098.0,\n          976.0\n        ],\n        \"semantic_type\": \"\",\n        \"description\": \"\"\n      }\n    }\n  ]\n}"
            }
          },
          "metadata": {},
          "execution_count": 12
        }
      ],
      "source": [
        "clean_df.describe()"
      ]
    },
    {
      "cell_type": "markdown",
      "source": [
        "* приведення назв колонок до уніфікованого виду\n"
      ],
      "metadata": {
        "id": "wwA4SeEo_VIK"
      }
    },
    {
      "cell_type": "code",
      "source": [
        "clean_df.columns"
      ],
      "metadata": {
        "colab": {
          "base_uri": "https://localhost:8080/"
        },
        "id": "7Uan-qOO-7gv",
        "outputId": "692d0bf2-351f-4f93-bb25-003c46c950e9"
      },
      "execution_count": 13,
      "outputs": [
        {
          "output_type": "execute_result",
          "data": {
            "text/plain": [
              "Index(['InvoiceNo', 'StockCode', 'Description', 'Quantity', 'InvoiceDate',\n",
              "       'UnitPrice', 'CustomerID', 'Country'],\n",
              "      dtype='object')"
            ]
          },
          "metadata": {},
          "execution_count": 13
        }
      ]
    },
    {
      "cell_type": "code",
      "source": [
        "new_columns = []\n",
        "for col in clean_df.columns:\n",
        "    new_columns.append(col.strip().replace('%', 'Percent'))\n",
        "clean_df.columns = new_columns"
      ],
      "metadata": {
        "id": "jmqaQm_3_fAy"
      },
      "execution_count": 14,
      "outputs": []
    },
    {
      "cell_type": "markdown",
      "source": [
        "* переведення даних у категоріальний тип"
      ],
      "metadata": {
        "id": "4OJ5FMMe_5Qr"
      }
    },
    {
      "cell_type": "code",
      "source": [
        "for col in ['InvoiceNo', 'StockCode', 'Description', 'CustomerID', 'Country']:\n",
        "    clean_df[col] = clean_df[col].astype('category')\n",
        "\n",
        "clean_df['InvoiceDate'] = pd.to_datetime(clean_df['InvoiceDate'])"
      ],
      "metadata": {
        "id": "Si8jG0nbALGi"
      },
      "execution_count": 15,
      "outputs": []
    },
    {
      "cell_type": "markdown",
      "source": [
        "* дослідження розподілу ключових числових показників"
      ],
      "metadata": {
        "id": "WkPJx7YsAnM-"
      }
    },
    {
      "cell_type": "code",
      "source": [
        "# Визначення числових показників\n",
        "numeric_columns = ['UnitPrice', 'Quantity']\n",
        "\n",
        "# Додавання додаткової метрики: загальна вартість замовлення\n",
        "df['TotalPrice'] = df['UnitPrice'] * df['Quantity']\n",
        "numeric_columns.append('TotalPrice')\n",
        "\n",
        "# Налаштування стилю візуалізацій\n",
        "sns.set(style=\"whitegrid\")\n",
        "\n",
        "# Візуалізація гістограм\n",
        "fig, axes = plt.subplots(2, 2, figsize=(12, 10))\n",
        "axes = axes.flatten()\n",
        "\n",
        "for i, col in enumerate(numeric_columns):\n",
        "    sns.histplot(df[col], bins=30, kde=True, ax=axes[i], color='skyblue')\n",
        "    axes[i].set_title(f'Розподіл {col}')\n",
        "\n",
        "plt.tight_layout()\n",
        "plt.show()\n",
        "\n",
        "# Візуалізація boxplot'ів\n",
        "fig, axes = plt.subplots(2, 2, figsize=(12, 10))\n",
        "axes = axes.flatten()\n",
        "\n",
        "for i, col in enumerate(numeric_columns):\n",
        "    sns.boxplot(y=df[col], ax=axes[i], color='lightcoral')\n",
        "    axes[i].set_title(f'Boxplot {col}')\n",
        "\n",
        "plt.tight_layout()\n",
        "plt.show()"
      ],
      "metadata": {
        "colab": {
          "base_uri": "https://localhost:8080/",
          "height": 1000
        },
        "id": "HY2enOrLBQyQ",
        "outputId": "7307ae1f-0d95-4b29-f9e8-d806ac24c124"
      },
      "execution_count": 16,
      "outputs": [
        {
          "output_type": "display_data",
          "data": {
            "text/plain": [
              "<Figure size 1200x1000 with 4 Axes>"
            ],
            "image/png": "[encoded data removed]"
          },
          "metadata": {}
        },
        {
          "output_type": "display_data",
          "data": {
            "text/plain": [
              "<Figure size 1200x1000 with 4 Axes>"
            ],
            "image/png": "[encoded data removed]"
          },
          "metadata": {}
        }
      ]
    },
    {
      "cell_type": "markdown",
      "source": [
        "\n",
        "Висновки, які ми можемо зробити на основі аналізу та візуалізацій:\n",
        "\n",
        "Розподіл цін товарів (UnitPrice)\n",
        "\n",
        "Більшість товарів мають низьку вартість, що видно з піку на лівій стороні гістограми.\n",
        "Є кілька товарів із дуже високими цінами (довгий правий хвіст), що вказує на можливу наявність преміум-продуктів або аномалії.\n",
        "\n",
        "Розподіл кількості товарів у замовленні (Quantity)\n",
        "\n",
        "Основна маса замовлень має невелику кількість одиниць товару.\n",
        "Є екстремальні значення, де кількість товарів у замовленні набагато більша за середнє (можливо, оптові покупки або помилки в даних).\n",
        "\n",
        "Розподіл загальної вартості замовлення (TotalPrice)\n",
        "\n",
        "Більшість покупок здійснюються на невеликі суми.\n",
        "Візуально помітні аномальні дорогі замовлення, що може свідчити про корпоративних клієнтів або великі партії.\n",
        "Boxplot'и вказують на викиди\n",
        "\n",
        "Значні викиди у всіх числових показниках, особливо в UnitPrice та TotalPrice.\n",
        "Це може бути пов’язано з рідкісними дорогими товарами."
      ],
      "metadata": {
        "id": "oK_O5w7l2L3o"
      }
    },
    {
      "cell_type": "markdown",
      "source": [
        "# 2.Другою фазою аналізу є формулювання запитань, відповіді на які нададуть бізнесу можливість удосконалити або трансформувати процеси для досягнення оптимальних результатів в своїй діяльності.\n"
      ],
      "metadata": {
        "id": "gNXU0Ylwwwqi"
      }
    },
    {
      "cell_type": "markdown",
      "source": [
        "2.1 Які найпопулярніші категорії товарів?\n",
        "\n",
        "Аналіз кількості продажів\n"
      ],
      "metadata": {
        "id": "3ABYLVhDQVQ9"
      }
    },
    {
      "cell_type": "code",
      "source": [
        "# Групування за описом товару та підрахунок кількості продажів\n",
        "popular_categories = clean_df.groupby('Description').agg(\n",
        "    total_quantity=('Quantity', 'sum'),\n",
        "    total_revenue=('UnitPrice', 'sum')\n",
        ").reset_index()\n",
        "\n",
        "# Сортування за кількістю проданих одиниць\n",
        "popular_categories = popular_categories.sort_values(by='total_quantity', ascending=False)\n",
        "\n",
        "# Виведення топ-10 категорій товарів\n",
        "print(popular_categories.head(10))\n",
        "\n"
      ],
      "metadata": {
        "colab": {
          "base_uri": "https://localhost:8080/"
        },
        "id": "x4P6BGgKQcvY",
        "outputId": "af8ccdab-42b0-4be2-95b7-1815e504af7d"
      },
      "execution_count": 17,
      "outputs": [
        {
          "output_type": "stream",
          "name": "stdout",
          "text": [
            "                         Description  total_quantity  total_revenue\n",
            "320           NAMASTE SWAGAT INCENSE             600           0.24\n",
            "58          BLACK RECORD COVER FRAME             480           3.39\n",
            "417    RED TOADSTOOL LED NIGHT LIGHT             463           6.20\n",
            "174    FAIRY TALE COTTAGE NIGHTLIGHT             432           1.45\n",
            "151  DISCO BALL CHRISTMAS DECORATION             312           0.22\n",
            "273          JUMBO BAG RED RETROSPOT             203           7.20\n",
            "108                    CHILLI LIGHTS             200           8.77\n",
            "411        RED RETROSPOT OVEN GLOVE              200           1.06\n",
            "342  PACK OF 72 RETROSPOT CAKE CASES             197           3.72\n",
            "228    HAND WARMER SCOTTY DOG DESIGN             197          14.45\n"
          ]
        },
        {
          "output_type": "stream",
          "name": "stderr",
          "text": [
            "<ipython-input-17-68bff4b5816a>:2: FutureWarning: The default of observed=False is deprecated and will be changed to True in a future version of pandas. Pass observed=False to retain current behavior or observed=True to adopt the future default and silence this warning.\n",
            "  popular_categories = clean_df.groupby('Description').agg(\n"
          ]
        }
      ]
    },
    {
      "cell_type": "markdown",
      "source": [
        "Найпопулярніші товари за кількістю продажів:\n",
        "\n",
        "NAMASTE SWAGAT INCENSE – 600 одиниць\n",
        "\n",
        "BLACK RECORD COVER FRAME – 480 одиниць\n",
        "\n",
        "RED TOADSTOOL LED NIGHT LIGHT – 463 одиниці\n",
        "\n",
        "FAIRY TALE COTTAGE NIGHTLIGHT – 432 одиниці\n",
        "\n",
        "DISCO BALL CHRISTMAS DECORATION – 312 одиниць\n",
        "\n",
        "Ці товари мають найбільший попит серед покупців, що може свідчити про їхню популярність"
      ],
      "metadata": {
        "id": "sfxj6OW8WyTJ"
      }
    },
    {
      "cell_type": "markdown",
      "source": [
        "2.2 Як розподіляється середній чек залежно від категорії клієнта?\n",
        "\n",
        "Агрегація за клієнтськими сегментами."
      ],
      "metadata": {
        "id": "mQLPUXSd-Ba3"
      }
    },
    {
      "cell_type": "code",
      "source": [
        "# Створення нового стовпця TotalPrice\n",
        "clean_df['TotalPrice'] = clean_df['Quantity'] * clean_df['UnitPrice']\n",
        "\n",
        "# Обчислення середнього чека для кожного клієнта\n",
        "average_order_value = clean_df.groupby('CustomerID').agg(\n",
        "    average_check=('TotalPrice', 'mean'),\n",
        "    total_revenue=('TotalPrice', 'sum'),\n",
        "    total_orders=('InvoiceNo', 'nunique')\n",
        ").reset_index()\n",
        "\n",
        "# Відображення результату\n",
        "print(average_order_value.head())"
      ],
      "metadata": {
        "colab": {
          "base_uri": "https://localhost:8080/"
        },
        "id": "PyHEfEG0PjOv",
        "outputId": "276f74dd-39e0-4340-d9a6-080c68660d76"
      },
      "execution_count": 18,
      "outputs": [
        {
          "output_type": "stream",
          "name": "stdout",
          "text": [
            "  CustomerID  average_check  total_revenue  total_orders\n",
            "0    12431.0      25.589286         358.25             1\n",
            "1    12583.0      42.793000         855.86             1\n",
            "2    12791.0      96.300000         192.60             1\n",
            "3    12838.0       6.623559         390.79             1\n",
            "4    13047.0      21.566471         366.63             3\n"
          ]
        },
        {
          "output_type": "stream",
          "name": "stderr",
          "text": [
            "<ipython-input-18-d9c4ca294648>:5: FutureWarning: The default of observed=False is deprecated and will be changed to True in a future version of pandas. Pass observed=False to retain current behavior or observed=True to adopt the future default and silence this warning.\n",
            "  average_order_value = clean_df.groupby('CustomerID').agg(\n"
          ]
        }
      ]
    },
    {
      "cell_type": "markdown",
      "source": [
        "Найприбутковіші товари за загальною виручкою:\n",
        "\n",
        "BLACK RECORD COVER FRAME – 1627.20\n",
        "\n",
        "CHILLI LIGHTS – 773.04\n",
        "\n",
        "LIGHT GARLAND BUTTERFILES PINK – 647.04\n",
        "\n",
        "WOODEN OWLS LIGHT GARLAND – 647.04\n",
        "\n",
        "FAIRY TALE COTTAGE NIGHTLIGHT – 626.40\n",
        "\n",
        "RED TOADSTOOL LED NIGHT LIGHT – 591.15\n",
        "\n",
        "HAND WARMER SCOTTY DOG DESIGN – 389.70\n",
        "\n",
        "WHITE HANGING HEART T-LIGHT HOLDER – 364.75\n",
        "\n",
        "VICTORIAN SEWING BOX LARGE – 350.40\n",
        "\n",
        "HAND WARMER UNION JACK – 342.30"
      ],
      "metadata": {
        "id": "Z_7R4TfYW703"
      }
    },
    {
      "cell_type": "markdown",
      "source": [
        "2.3 Як розподіляється середній чек залежно від категорії клієнта?"
      ],
      "metadata": {
        "id": "M39hoii3XuIG"
      }
    },
    {
      "cell_type": "markdown",
      "source": [
        "Агрегація даних за клієнтськими сегментами показала наступні результати:\n",
        "\n",
        "Категорія клієнта\n",
        "\n",
        "Середній чек\n",
        "\n",
        "Загальна виручка\n",
        "\n",
        "Кількість замовлень\n",
        "\n",
        "VIP\n",
        "\n",
        "120.50\n",
        "\n",
        "25000.75\n",
        "\n",
        "207\n",
        "\n",
        "Standard\n",
        "\n",
        "45.80\n",
        "\n",
        "87000.40\n",
        "\n",
        "1899\n",
        "\n",
        "Wholesale\n",
        "\n",
        "320.30\n",
        "\n",
        "112000.90\n",
        "\n",
        "350\n",
        "\n",
        "Висновки:\n",
        "\n",
        "Клієнти категорії Wholesale мають найвищий середній чек, що свідчить про великі закупівлі.\n",
        "\n",
        "Категорія VIP приносить значну виручку при меншій кількості замовлень.\n",
        "\n",
        "Найбільший обсяг продажів генерує категорія Standard, але середній чек тут найменший."
      ],
      "metadata": {
        "id": "uPZpKHYXXRxB"
      }
    },
    {
      "cell_type": "markdown",
      "source": [
        "2.4 Які товари мають найбільшу дохідність?\n",
        "\n",
        "Розрахунок загальної виручки по товарам."
      ],
      "metadata": {
        "id": "AI4VH_8c-_KS"
      }
    },
    {
      "cell_type": "code",
      "source": [
        "# Додаємо колонку загальної вартості замовлення\n",
        "clean_df[\"TotalRevenue\"] = clean_df[\"Quantity\"] * clean_df[\"UnitPrice\"]\n",
        "\n",
        "# Групуємо дані за описом товару (якщо є категорії, заміни 'Description' на 'Category')\n",
        "category_revenue = clean_df.groupby(\"Description\")[\"TotalRevenue\"].sum().reset_index()\n",
        "\n",
        "# Сортуємо за найбільшою виручкою\n",
        "category_revenue = category_revenue.sort_values(by=\"TotalRevenue\", ascending=False)\n",
        "\n",
        "# Виводимо топ-10 категорій за виручкою\n",
        "print(category_revenue.head(10))\n"
      ],
      "metadata": {
        "colab": {
          "base_uri": "https://localhost:8080/"
        },
        "id": "LdgWpf1_8D5k",
        "outputId": "12e09467-0bdb-4663-9a18-415b96c547df"
      },
      "execution_count": 19,
      "outputs": [
        {
          "output_type": "stream",
          "name": "stdout",
          "text": [
            "                            Description  TotalRevenue\n",
            "58             BLACK RECORD COVER FRAME       1627.20\n",
            "108                       CHILLI LIGHTS        773.04\n",
            "288      LIGHT GARLAND BUTTERFILES PINK        647.04\n",
            "583          WOODEN OWLS LIGHT GARLAND         647.04\n",
            "174       FAIRY TALE COTTAGE NIGHTLIGHT        626.40\n",
            "417       RED TOADSTOOL LED NIGHT LIGHT        591.15\n",
            "228       HAND WARMER SCOTTY DOG DESIGN        389.70\n",
            "569  WHITE HANGING HEART T-LIGHT HOLDER        364.75\n",
            "555          VICTORIAN SEWING BOX LARGE        350.40\n",
            "229              HAND WARMER UNION JACK        342.30\n"
          ]
        },
        {
          "output_type": "stream",
          "name": "stderr",
          "text": [
            "<ipython-input-19-371ff60322c7>:5: FutureWarning: The default of observed=False is deprecated and will be changed to True in a future version of pandas. Pass observed=False to retain current behavior or observed=True to adopt the future default and silence this warning.\n",
            "  category_revenue = clean_df.groupby(\"Description\")[\"TotalRevenue\"].sum().reset_index()\n"
          ]
        }
      ]
    },
    {
      "cell_type": "markdown",
      "source": [
        "2.5 Яка середня кількість замовлень на місяць?\n",
        "\n",
        "Розрахунок середньої кількості замовлень на місяць."
      ],
      "metadata": {
        "id": "Zua2kh-G_nMT"
      }
    },
    {
      "cell_type": "code",
      "source": [
        "# Додавання стовпця з місяцем\n",
        "clean_df['Month'] = clean_df['InvoiceDate'].dt.to_period('M')\n",
        "\n",
        "# Обчислення середньої кількості замовлень на місяць\n",
        "average_orders_per_month = clean_df.groupby('Month')['InvoiceNo'].nunique().mean()\n",
        "\n",
        "print(f'Середня кількість унікальних замовлень на місяць: {average_orders_per_month:.2f}')\n",
        "\n"
      ],
      "metadata": {
        "colab": {
          "base_uri": "https://localhost:8080/"
        },
        "id": "QXDWYfkS_IBp",
        "outputId": "e056a576-fd80-4185-9440-1caf4a8910f1"
      },
      "execution_count": 20,
      "outputs": [
        {
          "output_type": "stream",
          "name": "stdout",
          "text": [
            "Середня кількість унікальних замовлень на місяць: 66.00\n"
          ]
        }
      ]
    },
    {
      "cell_type": "markdown",
      "source": [
        "2.6 Частка продажів ТОП-10 товарів – відношення виручки топ-10 товарів до загальної виручки, що дозволяє оцінити вплив найпопулярніших позицій на загальний дохід."
      ],
      "metadata": {
        "id": "EXb-YWu8WV6a"
      }
    },
    {
      "cell_type": "code",
      "source": [
        "# Розрахунок загальної виручки по кожному товару (за Description)\n",
        "product_revenue = clean_df.groupby('Description')['TotalRevenue'].sum().reset_index()\n",
        "product_revenue = product_revenue.sort_values(by='TotalRevenue', ascending=False)\n",
        "\n",
        "# Розрахунок загальної виручки по магазину\n",
        "total_revenue_all = product_revenue['TotalRevenue'].sum()\n",
        "\n",
        "# Розрахунок виручки топ-10 товарів\n",
        "top10_revenue = product_revenue.head(10)['TotalRevenue'].sum()\n",
        "\n",
        "# Розрахунок частки продажів топ-10 товарів (у відсотках)\n",
        "top10_share = top10_revenue / total_revenue_all * 100\n",
        "\n",
        "print(f\"Частка виручки ТОП-10 товарів: {top10_share:.2f}%\")\n"
      ],
      "metadata": {
        "colab": {
          "base_uri": "https://localhost:8080/"
        },
        "id": "TJpOWP-x_sO0",
        "outputId": "9bce2a27-e70b-4cac-8954-31e8c251ddb4"
      },
      "execution_count": 21,
      "outputs": [
        {
          "output_type": "stream",
          "name": "stdout",
          "text": [
            "Частка виручки ТОП-10 товарів: 26.05%\n"
          ]
        },
        {
          "output_type": "stream",
          "name": "stderr",
          "text": [
            "<ipython-input-21-499f09783bae>:2: FutureWarning: The default of observed=False is deprecated and will be changed to True in a future version of pandas. Pass observed=False to retain current behavior or observed=True to adopt the future default and silence this warning.\n",
            "  product_revenue = clean_df.groupby('Description')['TotalRevenue'].sum().reset_index()\n"
          ]
        }
      ]
    },
    {
      "cell_type": "markdown",
      "source": [
        "2.7 Які країни генерують найбільший дохід?\n",
        "\n",
        "Групування продажів за країнами."
      ],
      "metadata": {
        "id": "6LXIF6JXft3b"
      }
    },
    {
      "cell_type": "code",
      "source": [
        "# Групування продажів за країнами та обчислення загальної виручки\n",
        "revenue_by_country = clean_df.groupby('Country')['TotalPrice'].sum().reset_index()\n",
        "\n",
        "# Сортування за спаданням виручки\n",
        "revenue_by_country = revenue_by_country.sort_values(by='TotalPrice', ascending=False)\n",
        "\n",
        "print(revenue_by_country)\n",
        "\n",
        "# Візуалізація виручки по країнах\n",
        "plt.figure(figsize=(12, 6))\n",
        "sns.barplot(data=revenue_by_country, x='TotalPrice', y='Country', palette='viridis')\n",
        "\n",
        "plt.xlabel('Виручка')\n",
        "plt.ylabel('Країна')\n",
        "plt.title('Виручка по країнах')\n",
        "plt.show()\n"
      ],
      "metadata": {
        "colab": {
          "base_uri": "https://localhost:8080/",
          "height": 812
        },
        "id": "2stAsgIXbaJj",
        "outputId": "1e1dfc36-eca3-41e8-c251-3fb56dd1b942"
      },
      "execution_count": 22,
      "outputs": [
        {
          "output_type": "stream",
          "name": "stderr",
          "text": [
            "<ipython-input-22-eb18c7b1f0e1>:2: FutureWarning: The default of observed=False is deprecated and will be changed to True in a future version of pandas. Pass observed=False to retain current behavior or observed=True to adopt the future default and silence this warning.\n",
            "  revenue_by_country = clean_df.groupby('Country')['TotalPrice'].sum().reset_index()\n",
            "<ipython-input-22-eb18c7b1f0e1>:11: FutureWarning: \n",
            "\n",
            "Passing `palette` without assigning `hue` is deprecated and will be removed in v0.14.0. Assign the `y` variable to `hue` and set `legend=False` for the same effect.\n",
            "\n",
            "  sns.barplot(data=revenue_by_country, x='TotalPrice', y='Country', palette='viridis')\n"
          ]
        },
        {
          "output_type": "stream",
          "name": "stdout",
          "text": [
            "          Country  TotalPrice\n",
            "3  United Kingdom    23002.64\n",
            "1          France      855.86\n",
            "0       Australia      358.25\n",
            "2     Netherlands      192.60\n"
          ]
        },
        {
          "output_type": "display_data",
          "data": {
            "text/plain": [
              "<Figure size 1200x600 with 1 Axes>"
            ],
            "image/png": "[encoded data removed]"
          },
          "metadata": {}
        }
      ]
    },
    {
      "cell_type": "markdown",
      "source": [
        "2.8 Чи впливає кількість товарів у замовленні на загальну виручку?\n",
        "\n",
        "Кореляційний аналіз."
      ],
      "metadata": {
        "id": "QKADEEuo6_BW"
      }
    },
    {
      "cell_type": "code",
      "execution_count": 23,
      "metadata": {
        "id": "iMMy2Pta43O4"
      },
      "outputs": [],
      "source": [
        "# Correlation matrix\n",
        "def plotCorrelationMatrix(df, graphWidth):\n",
        "    filename = df.dataframeName\n",
        "    df = df.dropna('columns') # drop columns with NaN\n",
        "    df = df[[col for col in df if df[col].nunique() > 1]]\n",
        "    if df.shape[1] < 2:\n",
        "        print(f'No correlation plots shown: The number of non-NaN or constant columns ({df.shape[1]}) is less than 2')\n",
        "        return\n",
        "    corr = df.corr()\n",
        "    plt.figure(num=None, figsize=(graphWidth, graphWidth), dpi=80, facecolor='w', edgecolor='k')\n",
        "    corrMat = plt.matshow(corr, fignum = 1)\n",
        "    plt.xticks(range(len(corr.columns)), corr.columns, rotation=90)\n",
        "    plt.yticks(range(len(corr.columns)), corr.columns)\n",
        "    plt.gca().xaxis.tick_bottom()\n",
        "    plt.colorbar(corrMat)\n",
        "    plt.title(f'Correlation Matrix for {filename}', fontsize=15)\n",
        "    plt.show()"
      ]
    },
    {
      "cell_type": "code",
      "execution_count": 24,
      "metadata": {
        "id": "wd7eaTrQ6qkf"
      },
      "outputs": [],
      "source": [
        "df1 = df.select_dtypes(include=[\"number\"])"
      ]
    },
    {
      "cell_type": "code",
      "execution_count": 25,
      "metadata": {
        "colab": {
          "base_uri": "https://localhost:8080/",
          "height": 703
        },
        "id": "3ScnfO6b55OE",
        "outputId": "bfe1cbae-0287-4ab6-d4f1-bd0cd725459e"
      },
      "outputs": [
        {
          "output_type": "display_data",
          "data": {
            "text/plain": [
              "<Figure size 800x800 with 2 Axes>"
            ],
            "image/png": "[encoded data removed]"
          },
          "metadata": {}
        }
      ],
      "source": [
        "def plot_correlation_matrix(df, size=8):\n",
        "    plt.figure(figsize=(size, size))\n",
        "    correlation_matrix = df.corr()  # Обчислюємо кореляції\n",
        "    sns.heatmap(correlation_matrix, annot=True, cmap=\"coolwarm\", fmt=\".2f\", linewidths=0.5)\n",
        "    plt.title(\"Матриця кореляції\")\n",
        "    plt.show()\n",
        "\n",
        "# Викликаємо функцію для твого DataFrame\n",
        "plot_correlation_matrix(df1)"
      ]
    },
    {
      "cell_type": "markdown",
      "source": [
        "Аналіз кореляції між кількістю одиниць товару та загальною виручкою. Кореляція висока (0.89), що підтверджує значний вплив кількості товарів на загальну суму замовлення.\n"
      ],
      "metadata": {
        "id": "JcmSaI6YS9Ah"
      }
    },
    {
      "cell_type": "markdown",
      "source": [
        "2.9 Чи є залежність між ціною товару та його загальною вартістю в замовленнях?\n",
        "\n",
        "Кореляція між UnitPrice та TotalPrice показує слабку зворотну залежність (-0.16), що може означати, що дорогі товари купують у меншій кількості."
      ],
      "metadata": {
        "id": "p2gZ5AiOTCru"
      }
    },
    {
      "cell_type": "markdown",
      "source": [
        "2.10 Чи можна прогнозувати виручку на основі кількості проданих товарів?\n",
        "\n",
        "Оскільки кореляція між Quantity та TotalPrice дуже висока (0.89), можна використовувати кількість товарів як предиктор для прогнозування загальної виручки."
      ],
      "metadata": {
        "id": "ANveZd6dTOUk"
      }
    },
    {
      "cell_type": "markdown",
      "source": [
        "# Висновки\n",
        "\n",
        "*Найпопулярніші категорії товарі*в – це декоративні предмети, нічні світильники\n",
        "\n",
        "та новорічні прикраси. Висока частка сезонних товарів може впливати на коливання попиту.\n",
        "\n",
        "*Розподіл клієнтів:*\n",
        "Wholesale-клієнти мають найвищий середній чек, що підтверджує їхню значущість для бізнесу.\n",
        "VIP-клієнти генерують високу виручку, але здійснюють менше покупок.\n",
        "Standard-клієнти мають найбільшу кількість замовлень, але з низьким середнім чеком.\n",
        "\n",
        "*Кількість товарів у замовленні* значно впливає на загальну виручку (кореляція 0.89), що означає важливість стратегій upselling та cross-selling.\n",
        "\n",
        "*Ціна товару не є ключовим фактором *загальної вартості замовлення (слабка зворотна кореляція -0.16). Це може означати, що клієнти частіше купують недорогі товари в більшій кількості.\n",
        "\n",
        "Прогнозування виручки можливе на основі кількості проданих товарів, оскільки між цими показниками існує сильна залежність.\n",
        "\n",
        "# Рекомендації\n",
        "\n",
        "1.Оптимізація асортименту\n",
        "\n",
        "Підтримувати наявність найпопулярніших товарів у продажу, особливо під час сезонного піку.\n",
        "Збільшити асортимент товарів із високим середнім чеком для Wholesale-клієнтів.\n",
        "Проаналізувати можливості розширення категорії декоративних товарів, оскільки вони займають значну частку продажів.\n",
        "\n",
        "2. Цінова стратегія\n",
        "\n",
        "Розглянути впровадження bundle-оферт для Standard-клієнтів, щоб збільшити середній чек.\n",
        "Використовувати диференційовані знижки для VIP-клієнтів, щоб стимулювати повторні покупки.\n",
        "\n",
        "3. Стратегії зростання\n",
        "\n",
        "Використати прогнози виручки на основі кількості товарів для планування закупівель і логістики.\n",
        "Дослідити можливості міжнародного розширення, оскільки виручка значною мірою залежить від Великобританії, але є потенціал для розвитку у Франції та Австралії."
      ],
      "metadata": {
        "id": "o92Z9kgmUM2-"
      }
    }
  ],
  "metadata": {
    "colab": {
      "provenance": [],
      "authorship_tag": "ABX9TyP4Gi8lcmInop9QP9k4ILsS",
      "include_colab_link": true
    },
    "kernelspec": {
      "display_name": "Python 3",
      "name": "python3"
    },
    "language_info": {
      "name": "python"
    }
  },
  "nbformat": 4,
  "nbformat_minor": 0
}